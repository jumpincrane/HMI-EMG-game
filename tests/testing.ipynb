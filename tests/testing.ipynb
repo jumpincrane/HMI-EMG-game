{
 "cells": [
  {
   "cell_type": "code",
   "execution_count": 1,
   "metadata": {},
   "outputs": [],
   "source": [
    "from maze_game_hmi.utils.utils import *\n",
    "import pandas as pd\n",
    "import scipy.signal as sig\n",
    "import matplotlib.pyplot as plt"
   ]
  },
  {
   "cell_type": "code",
   "execution_count": 2,
   "metadata": {},
   "outputs": [],
   "source": [
    "emg_df = pd.read_hdf(\"./mvc.hdf5\")\n",
    "indexes = np.arange(len(emg_df))\n",
    "emg_df['index'] = indexes\n",
    "emg_df = emg_df.set_index('index')\n",
    "emg_sig = emg_df['EMG_20']"
   ]
  },
  {
   "cell_type": "code",
   "execution_count": 3,
   "metadata": {},
   "outputs": [],
   "source": [
    "fs = 5120\n",
    "window = 500\n",
    "stride = 100\n",
    "Rs = 55"
   ]
  },
  {
   "cell_type": "code",
   "execution_count": 4,
   "metadata": {},
   "outputs": [
    {
     "data": {
      "text/plain": [
       "<AxesSubplot:xlabel='index'>"
      ]
     },
     "execution_count": 4,
     "metadata": {},
     "output_type": "execute_result"
    },
    {
     "data": {
      "image/png": "[encoded data removed]",
      "text/plain": [
       "<Figure size 432x288 with 1 Axes>"
      ]
     },
     "metadata": {
      "needs_background": "light"
     },
     "output_type": "display_data"
    }
   ],
   "source": [
    "emg_sig.plot()"
   ]
  },
  {
   "cell_type": "code",
   "execution_count": 10,
   "metadata": {},
   "outputs": [],
   "source": [
    "# 1. Filtration\n",
    "filtered_sig, filtered_sig_zero_ph = filter_emg(emg_sig, fs=fs, Rs=Rs, notch=True)\n",
    "# 2. RMS\n",
    "rms_sig = rms(filtered_sig, window=window, stride=stride, fs=fs)\n",
    "rms_coeff = rms_sig.max()\n",
    "# 3. Normalization\n",
    "norm_emg = normalize_emg(filtered_sig, rms_coeff)\n",
    "# 4. Classification of "
   ]
  },
  {
   "cell_type": "code",
   "execution_count": 16,
   "metadata": {},
   "outputs": [
    {
     "data": {
      "text/plain": [
       "(61440,)"
      ]
     },
     "execution_count": 16,
     "metadata": {},
     "output_type": "execute_result"
    }
   ],
   "source": [
    "rms_sig.shape"
   ]
  }
 ],
 "metadata": {
  "interpreter": {
   "hash": "301b79b9d4da29fbb13319187f450a4dbdcdbdac0faae9bd2ef503b89533f519"
  },
  "kernelspec": {
   "display_name": "Python 3.9.12 ('hmi')",
   "language": "python",
   "name": "python3"
  },
  "language_info": {
   "codemirror_mode": {
    "name": "ipython",
    "version": 3
   },
   "file_extension": ".py",
   "mimetype": "text/x-python",
   "name": "python",
   "nbconvert_exporter": "python",
   "pygments_lexer": "ipython3",
   "version": "3.9.12"
  },
  "orig_nbformat": 4
 },
 "nbformat": 4,
 "nbformat_minor": 2
}
